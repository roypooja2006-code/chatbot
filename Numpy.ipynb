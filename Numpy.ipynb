{
  "cells": [
    {
      "cell_type": "markdown",
      "id": "afc81441-62ea-4c07-9c1d-493e1cacd6ee",
      "metadata": {
        "id": "afc81441-62ea-4c07-9c1d-493e1cacd6ee"
      },
      "source": [
        "# Numpy"
      ]
    },
    {
      "cell_type": "markdown",
      "id": "dccae486-a869-429b-93c7-19f8479a77a7",
      "metadata": {
        "id": "dccae486-a869-429b-93c7-19f8479a77a7"
      },
      "source": [
        "NumPy is the fundamental package for scientific computing in Python.\n",
        "It is a Python library that provides a multidimensional array object, various derived objects, and routines for fast operations on arrays, including mathematical, logical, shape manipulation, sorting, selecting, I/O, discrete Fourier transforms, basic linear algebra, basic statistical operations, random simulation and much more.\n",
        "\n",
        "At the core of the NumPy package, is the ndarray object.\n",
        "This encapsulates n-dimensional arrays of homogeneous data types.\n",
        "\n",
        "\n",
        "# Numpy Arrays Vs Python Sequences\n",
        "NumPy arrays have a fixed size at creation, unlike Python lists (which can grow dynamically). Changing the size of an ndarray will create a new array and delete the original.\n",
        "\n",
        "The elements in a NumPy array are all required to be of the same data type, and thus will be the same size in memory.\n",
        "\n",
        "NumPy arrays facilitate advanced mathematical and other types of operations on large numbers of data. Typically, such operations are executed more efficiently and with less code than is possible using Python’s built-in sequences.\n",
        "\n",
        "A growing field of scientific and mathematical Python-based packages are using NumPy arrays; though these typically support Python-sequence input, they convert such input to NumPy arrays prior to processing, and they often output NumPy arrays."
      ]
    },
    {
      "cell_type": "markdown",
      "id": "63d11813-9d37-4a56-9ef3-f217048e4b34",
      "metadata": {
        "id": "63d11813-9d37-4a56-9ef3-f217048e4b34"
      },
      "source": [
        "# Creating N-D arrays"
      ]
    },
    {
      "cell_type": "code",
      "execution_count": null,
      "id": "d9cdd281-2730-48a9-844a-11c9e5bbac54",
      "metadata": {
        "id": "d9cdd281-2730-48a9-844a-11c9e5bbac54"
      },
      "outputs": [],
      "source": [
        "import numpy as np"
      ]
    },
    {
      "cell_type": "code",
      "execution_count": null,
      "id": "04361a8c-c689-482c-8869-6b753e0132e4",
      "metadata": {
        "id": "04361a8c-c689-482c-8869-6b753e0132e4"
      },
      "outputs": [],
      "source": [
        "arr1 = np.array([1, 2, 3 ,4, 5, 6])\n",
        "arr2 = np.array([[1,2,3],[4,5,6]])\n",
        "arr3 = np.zeros((2,3))\n",
        "arr4 = np.ones((3,3))\n",
        "arr5 = np.identity((5))\n",
        "arr6 = np.array([[[1,2],[3,4]],[[5,6],[7,8]]])\n",
        "arr7 = np.random.random((3,4))"
      ]
    },
    {
      "cell_type": "code",
      "execution_count": null,
      "id": "7f995330-4f0a-4e5d-8018-f2ebb80fa786",
      "metadata": {
        "id": "7f995330-4f0a-4e5d-8018-f2ebb80fa786",
        "outputId": "9dae3d8c-1e6b-4693-f77a-92d7913192a2"
      },
      "outputs": [
        {
          "data": {
            "text/plain": [
              "array([[[1, 2],\n",
              "        [3, 4]],\n",
              "\n",
              "       [[5, 6],\n",
              "        [7, 8]]])"
            ]
          },
          "execution_count": 89,
          "metadata": {},
          "output_type": "execute_result"
        }
      ],
      "source": [
        "arr6"
      ]
    },
    {
      "cell_type": "code",
      "execution_count": null,
      "id": "1e21745c-22db-49f9-8236-635128f069bd",
      "metadata": {
        "id": "1e21745c-22db-49f9-8236-635128f069bd"
      },
      "outputs": [],
      "source": [
        "type(arr1)"
      ]
    },
    {
      "cell_type": "code",
      "execution_count": null,
      "id": "e4f04166-4800-4081-8749-00fae9b56919",
      "metadata": {
        "id": "e4f04166-4800-4081-8749-00fae9b56919"
      },
      "outputs": [],
      "source": [
        "#When we need the datatype to be float\n",
        "a = np.array([1, 2, 3], dtype = float)\n",
        "b = np.array([1, 2, 3], dtype = bool)\n",
        "c = np.array([1, 2, 3], dtype = complex)"
      ]
    },
    {
      "cell_type": "code",
      "execution_count": null,
      "id": "fd612295-4a3b-4f16-99cc-a172c4d70dff",
      "metadata": {
        "id": "fd612295-4a3b-4f16-99cc-a172c4d70dff"
      },
      "outputs": [],
      "source": []
    },
    {
      "cell_type": "code",
      "execution_count": null,
      "id": "0e1473b9-c051-4d19-8ecb-006d2db5ae0d",
      "metadata": {
        "id": "0e1473b9-c051-4d19-8ecb-006d2db5ae0d"
      },
      "outputs": [],
      "source": [
        "#when you need a range\n",
        "arr7 = np.arange(1,11)\n",
        "arr8 = np.arange(1,11,2)"
      ]
    },
    {
      "cell_type": "code",
      "execution_count": null,
      "id": "4e081dec-806e-476f-8367-1c4adb60434a",
      "metadata": {
        "id": "4e081dec-806e-476f-8367-1c4adb60434a"
      },
      "outputs": [],
      "source": [
        "#np.arange() with reshape\n",
        "np.arange(1,11).reshape(5,2)"
      ]
    },
    {
      "cell_type": "code",
      "execution_count": null,
      "id": "3f35456b-d6f2-48e8-a04f-1476fda1f5c4",
      "metadata": {
        "id": "3f35456b-d6f2-48e8-a04f-1476fda1f5c4"
      },
      "outputs": [],
      "source": [
        "#np.linspace(lower range, upper range, numbers) -linearly space(generates points in equal distance)\n",
        "np.linspace(-5,5,10)"
      ]
    },
    {
      "cell_type": "markdown",
      "id": "bdf1af87-61ff-48e9-96dd-0c191389a5a2",
      "metadata": {
        "id": "bdf1af87-61ff-48e9-96dd-0c191389a5a2"
      },
      "source": [
        "# Array Attributes"
      ]
    },
    {
      "cell_type": "code",
      "execution_count": null,
      "id": "85c855af-7d35-4b0c-adca-990d16dd01cd",
      "metadata": {
        "id": "85c855af-7d35-4b0c-adca-990d16dd01cd"
      },
      "outputs": [],
      "source": [
        "# ndim, shape, size, itemsize, dtype"
      ]
    },
    {
      "cell_type": "code",
      "execution_count": null,
      "id": "10635e3a-6d49-4b5a-bb86-7ef85528df6a",
      "metadata": {
        "id": "10635e3a-6d49-4b5a-bb86-7ef85528df6a"
      },
      "outputs": [],
      "source": [
        "a1 = np.array([1,2,3,4,5])\n",
        "a2 = np.arange((12), dtype = float).reshape((3,4))\n",
        "a3 = np.arange(8).reshape((2,2,2))"
      ]
    },
    {
      "cell_type": "code",
      "execution_count": null,
      "id": "f6f83148-925c-4de0-831e-550e7ed1d01c",
      "metadata": {
        "id": "f6f83148-925c-4de0-831e-550e7ed1d01c"
      },
      "outputs": [],
      "source": [
        "a2"
      ]
    },
    {
      "cell_type": "code",
      "execution_count": null,
      "id": "7d7f4363-eeb3-4c93-b1e9-03e9902ee99d",
      "metadata": {
        "id": "7d7f4363-eeb3-4c93-b1e9-03e9902ee99d"
      },
      "outputs": [],
      "source": [
        "a3"
      ]
    },
    {
      "cell_type": "code",
      "execution_count": null,
      "id": "b0d6734e-3c50-431d-a947-853517c3b739",
      "metadata": {
        "id": "b0d6734e-3c50-431d-a947-853517c3b739"
      },
      "outputs": [],
      "source": [
        "#shows the dimension of the given array\n",
        "print(a1.ndim, a2.ndim, a3.ndim)"
      ]
    },
    {
      "cell_type": "code",
      "execution_count": null,
      "id": "3ec21d4c-4487-42bf-a70f-1d9aba794247",
      "metadata": {
        "id": "3ec21d4c-4487-42bf-a70f-1d9aba794247"
      },
      "outputs": [],
      "source": [
        "#shape of the array\n",
        "a3.shape"
      ]
    },
    {
      "cell_type": "code",
      "execution_count": null,
      "id": "d0f05c79-9631-426f-a835-49e793781744",
      "metadata": {
        "id": "d0f05c79-9631-426f-a835-49e793781744"
      },
      "outputs": [],
      "source": [
        "a3.size"
      ]
    },
    {
      "cell_type": "code",
      "execution_count": null,
      "id": "2392ebdb-b873-46fd-887e-9ec50afcc3f5",
      "metadata": {
        "id": "2392ebdb-b873-46fd-887e-9ec50afcc3f5"
      },
      "outputs": [],
      "source": [
        "a2.itemsize"
      ]
    },
    {
      "cell_type": "markdown",
      "id": "6e179cca-a9da-4561-bd79-718dcca22984",
      "metadata": {
        "id": "6e179cca-a9da-4561-bd79-718dcca22984"
      },
      "source": [
        "# Changing DataType"
      ]
    },
    {
      "cell_type": "code",
      "execution_count": null,
      "id": "aeeaab65-26dc-4d75-a065-8c4f301588e6",
      "metadata": {
        "id": "aeeaab65-26dc-4d75-a065-8c4f301588e6"
      },
      "outputs": [],
      "source": [
        "#when you need to change the datatype of the already created array.\n",
        "print(a3.astype(np.int32))\n",
        "print(a3.dtype)"
      ]
    },
    {
      "cell_type": "markdown",
      "id": "67400e98-3425-45ca-83e2-68c5e1f2889a",
      "metadata": {
        "id": "67400e98-3425-45ca-83e2-68c5e1f2889a"
      },
      "source": [
        "# Array Operations"
      ]
    },
    {
      "cell_type": "code",
      "execution_count": null,
      "id": "0673d87a-14f8-4b23-9eb4-9e180b4eab0c",
      "metadata": {
        "id": "0673d87a-14f8-4b23-9eb4-9e180b4eab0c"
      },
      "outputs": [],
      "source": [
        "#scalar Operations\n",
        "#Arithematic\n",
        "a2 ** 2"
      ]
    },
    {
      "cell_type": "code",
      "execution_count": null,
      "id": "d593b084-1467-40bf-8116-13b3e9244844",
      "metadata": {
        "id": "d593b084-1467-40bf-8116-13b3e9244844"
      },
      "outputs": [],
      "source": [
        "#Relational\n",
        "a2 > 25"
      ]
    },
    {
      "cell_type": "code",
      "execution_count": null,
      "id": "4c620e77-085f-4cde-bc07-3cafe8c98d21",
      "metadata": {
        "id": "4c620e77-085f-4cde-bc07-3cafe8c98d21"
      },
      "outputs": [],
      "source": [
        "#vector Operations\n",
        "#arithematic\n",
        "a2 + a2\n"
      ]
    },
    {
      "cell_type": "markdown",
      "id": "a3388b5a-ff81-450c-95f0-8f32fd6d6025",
      "metadata": {
        "id": "a3388b5a-ff81-450c-95f0-8f32fd6d6025"
      },
      "source": [
        "# Array Functions"
      ]
    },
    {
      "cell_type": "code",
      "execution_count": null,
      "id": "7043f3b5-a702-4aac-95fb-37aa85d975be",
      "metadata": {
        "id": "7043f3b5-a702-4aac-95fb-37aa85d975be"
      },
      "outputs": [],
      "source": [
        "arr = np.random.random((3,3))\n",
        "arr = np.round(arr*100)\n",
        "arr"
      ]
    },
    {
      "cell_type": "code",
      "execution_count": null,
      "id": "57126ead-860d-4021-ab3d-65241f21abed",
      "metadata": {
        "id": "57126ead-860d-4021-ab3d-65241f21abed"
      },
      "outputs": [],
      "source": [
        "# max/min/sum/prod\n",
        "# 0 -> col and 1 -> row\n",
        "np.prod(arr,axis=0)\n",
        "np.min(arr,axis=0)\n",
        "np.max(arr,axis=0)\n",
        "np.sum(arr,axis=0)"
      ]
    },
    {
      "cell_type": "code",
      "execution_count": null,
      "id": "e193f0ab-f7f1-41a3-aedc-8cd34d66fc70",
      "metadata": {
        "id": "e193f0ab-f7f1-41a3-aedc-8cd34d66fc70"
      },
      "outputs": [],
      "source": [
        "# mean/median/std/var\n",
        "np.var(arr, axis =1)\n",
        "np.std(arr, axis =1)\n",
        "np.median(arr, axis =1)\n",
        "np.mean(arr, axis =1)"
      ]
    },
    {
      "cell_type": "code",
      "execution_count": null,
      "id": "479b2a20-28ec-4234-b524-9ab5a758fc06",
      "metadata": {
        "id": "479b2a20-28ec-4234-b524-9ab5a758fc06"
      },
      "outputs": [],
      "source": [
        "# trigonomoetric functions\n",
        "np.sin(arr)"
      ]
    },
    {
      "cell_type": "code",
      "execution_count": null,
      "id": "4377acc6-3dfb-499b-863d-182a28bf73ae",
      "metadata": {
        "id": "4377acc6-3dfb-499b-863d-182a28bf73ae"
      },
      "outputs": [],
      "source": [
        "# dot product\n",
        "a4 = np.arange(12).reshape(3,4)\n",
        "a5 = np.arange(12,24).reshape(4,3)\n",
        "\n",
        "np.dot(a4,a5)"
      ]
    },
    {
      "cell_type": "code",
      "execution_count": null,
      "id": "ca862328-2cf6-4a37-99d4-6a9b2ee325a5",
      "metadata": {
        "id": "ca862328-2cf6-4a37-99d4-6a9b2ee325a5"
      },
      "outputs": [],
      "source": [
        "a4"
      ]
    },
    {
      "cell_type": "code",
      "execution_count": null,
      "id": "1312a22d-8f79-4016-956e-e5f01adbbebe",
      "metadata": {
        "id": "1312a22d-8f79-4016-956e-e5f01adbbebe"
      },
      "outputs": [],
      "source": [
        "a5"
      ]
    },
    {
      "cell_type": "code",
      "execution_count": null,
      "id": "7ed0b4f7-db37-4bad-902e-d9b0322ad223",
      "metadata": {
        "id": "7ed0b4f7-db37-4bad-902e-d9b0322ad223"
      },
      "outputs": [],
      "source": [
        "# log and exponents\n",
        "np.exp(a4)"
      ]
    },
    {
      "cell_type": "code",
      "execution_count": null,
      "id": "a7e48d38-c0f6-4f3e-82ea-8824c6652534",
      "metadata": {
        "id": "a7e48d38-c0f6-4f3e-82ea-8824c6652534"
      },
      "outputs": [],
      "source": [
        "np.log(a4)"
      ]
    },
    {
      "cell_type": "code",
      "execution_count": null,
      "id": "08380dd7-7890-4fd2-a53d-07124ae6a75d",
      "metadata": {
        "id": "08380dd7-7890-4fd2-a53d-07124ae6a75d"
      },
      "outputs": [],
      "source": [
        "# round/floor/ceil\n",
        "np.ceil(np.random.random((2,3))*100)"
      ]
    },
    {
      "cell_type": "markdown",
      "id": "5faa3d69-268c-4953-8dc7-6a32684ff231",
      "metadata": {
        "id": "5faa3d69-268c-4953-8dc7-6a32684ff231"
      },
      "source": []
    },
    {
      "cell_type": "markdown",
      "id": "46f605a9-c768-406b-88ce-db666bda9d75",
      "metadata": {
        "id": "46f605a9-c768-406b-88ce-db666bda9d75"
      },
      "source": [
        "# Indexing and slicing"
      ]
    },
    {
      "cell_type": "code",
      "execution_count": null,
      "id": "0f50043a-c0a4-49fc-a295-eb5d15149b02",
      "metadata": {
        "id": "0f50043a-c0a4-49fc-a295-eb5d15149b02"
      },
      "outputs": [],
      "source": [
        "a1 = np.arange(10)\n",
        "a2 = np.arange(12).reshape(3,4)\n",
        "a3 = np.arange(8).reshape(2,2,2)"
      ]
    },
    {
      "cell_type": "code",
      "execution_count": null,
      "id": "a2f72758-c954-4b17-a2f3-6d86aefb1d28",
      "metadata": {
        "id": "a2f72758-c954-4b17-a2f3-6d86aefb1d28"
      },
      "outputs": [],
      "source": [
        "#array[start:stop:step]\n",
        "a1"
      ]
    },
    {
      "cell_type": "code",
      "execution_count": null,
      "id": "baefa8a1-9c9c-4f15-950d-a20ba3d52264",
      "metadata": {
        "id": "baefa8a1-9c9c-4f15-950d-a20ba3d52264"
      },
      "outputs": [],
      "source": [
        "a1[2:5]"
      ]
    },
    {
      "cell_type": "code",
      "execution_count": null,
      "id": "4eb51461-3626-4f6f-a382-462aee2a04a4",
      "metadata": {
        "id": "4eb51461-3626-4f6f-a382-462aee2a04a4"
      },
      "outputs": [],
      "source": [
        "a1[:]"
      ]
    },
    {
      "cell_type": "code",
      "execution_count": null,
      "id": "31426702-41fb-461f-a252-abf62cce26a7",
      "metadata": {
        "id": "31426702-41fb-461f-a252-abf62cce26a7"
      },
      "outputs": [],
      "source": [
        "#array[row_start:row_stop:row_step, col_start:col_stop:col_step]\n",
        "a2"
      ]
    },
    {
      "cell_type": "code",
      "execution_count": null,
      "id": "533baf44-a1d8-4917-9d61-2ce73603a25c",
      "metadata": {
        "id": "533baf44-a1d8-4917-9d61-2ce73603a25c"
      },
      "outputs": [],
      "source": [
        "a2[:,:]"
      ]
    },
    {
      "cell_type": "code",
      "execution_count": null,
      "id": "1146e3cc-0dc8-41a9-98ef-7f324a2f8a56",
      "metadata": {
        "id": "1146e3cc-0dc8-41a9-98ef-7f324a2f8a56"
      },
      "outputs": [],
      "source": [
        "# 0,3         1,2           0,1\n",
        "# 8,11        5,6           4,5\n",
        "#             9,10\n",
        "#"
      ]
    },
    {
      "cell_type": "code",
      "execution_count": null,
      "id": "529e793a-d901-4988-b6e1-c9311e3d4c53",
      "metadata": {
        "id": "529e793a-d901-4988-b6e1-c9311e3d4c53"
      },
      "outputs": [],
      "source": [
        "a2[::2, ::3]"
      ]
    },
    {
      "cell_type": "code",
      "execution_count": null,
      "id": "f6b599c8-7be1-4fff-aa62-7c6d35ba7199",
      "metadata": {
        "id": "f6b599c8-7be1-4fff-aa62-7c6d35ba7199"
      },
      "outputs": [],
      "source": [
        "a2[::,1:3]"
      ]
    },
    {
      "cell_type": "code",
      "execution_count": null,
      "id": "58d1ea80-1be5-4b44-8e96-856f1e9b8337",
      "metadata": {
        "id": "58d1ea80-1be5-4b44-8e96-856f1e9b8337"
      },
      "outputs": [],
      "source": [
        "a3"
      ]
    },
    {
      "cell_type": "code",
      "execution_count": null,
      "id": "100f6742-2f10-4ffe-80af-708cfef24016",
      "metadata": {
        "id": "100f6742-2f10-4ffe-80af-708cfef24016"
      },
      "outputs": [],
      "source": [
        "#array[dim1_slice, dim2_slice, dim3_slice, ...]\n",
        "a3"
      ]
    },
    {
      "cell_type": "code",
      "execution_count": null,
      "id": "fb1db3fc-6780-4af1-ac5d-470078385034",
      "metadata": {
        "id": "fb1db3fc-6780-4af1-ac5d-470078385034"
      },
      "outputs": [],
      "source": [
        "a3[0]"
      ]
    },
    {
      "cell_type": "code",
      "execution_count": null,
      "id": "30cc0767-537a-430a-8977-36711b1550da",
      "metadata": {
        "id": "30cc0767-537a-430a-8977-36711b1550da"
      },
      "outputs": [],
      "source": [
        "a3[0, 0, :]"
      ]
    },
    {
      "cell_type": "code",
      "execution_count": null,
      "id": "ef22fdc9-1323-4e45-9762-1a0c4d18bc1b",
      "metadata": {
        "id": "ef22fdc9-1323-4e45-9762-1a0c4d18bc1b"
      },
      "outputs": [],
      "source": [
        "a3[1, 1, 1]"
      ]
    },
    {
      "cell_type": "code",
      "execution_count": null,
      "id": "5f7b5a89-8d2a-47ef-83bb-61193502ea8d",
      "metadata": {
        "id": "5f7b5a89-8d2a-47ef-83bb-61193502ea8d"
      },
      "outputs": [],
      "source": [
        "a3 = np.arange(27).reshape(3,3,3)\n",
        "a3"
      ]
    },
    {
      "cell_type": "code",
      "execution_count": null,
      "id": "0bccdb1d-086d-4460-8ed0-68902d81e04c",
      "metadata": {
        "id": "0bccdb1d-086d-4460-8ed0-68902d81e04c"
      },
      "outputs": [],
      "source": [
        "a3[1, 2, 1: ]"
      ]
    },
    {
      "cell_type": "code",
      "execution_count": null,
      "id": "2cbb33fd-2b30-4d6e-89ca-5897a2af227a",
      "metadata": {
        "id": "2cbb33fd-2b30-4d6e-89ca-5897a2af227a"
      },
      "outputs": [],
      "source": [
        "a3[::2,0,0::2]"
      ]
    },
    {
      "cell_type": "code",
      "execution_count": null,
      "id": "f2b49f48-43f1-4fa9-b074-e8e775e41912",
      "metadata": {
        "id": "f2b49f48-43f1-4fa9-b074-e8e775e41912"
      },
      "outputs": [],
      "source": [
        "#Transpose\n",
        "np.transpose(a2)\n"
      ]
    },
    {
      "cell_type": "code",
      "execution_count": null,
      "id": "2286bff4-f11b-436e-a45c-19e56f56299d",
      "metadata": {
        "id": "2286bff4-f11b-436e-a45c-19e56f56299d"
      },
      "outputs": [],
      "source": [
        "a2.T"
      ]
    },
    {
      "cell_type": "code",
      "execution_count": null,
      "id": "b4552aac-da65-48b3-8401-2a6b79849075",
      "metadata": {
        "id": "b4552aac-da65-48b3-8401-2a6b79849075"
      },
      "outputs": [],
      "source": [
        "#ravel\n",
        "a2.ravel()"
      ]
    },
    {
      "cell_type": "markdown",
      "id": "82a7b62f-aed6-40da-a2b8-b09d210a59b8",
      "metadata": {
        "id": "82a7b62f-aed6-40da-a2b8-b09d210a59b8"
      },
      "source": [
        "# Stacking and splitting"
      ]
    },
    {
      "cell_type": "code",
      "execution_count": null,
      "id": "6c128c53-03f1-41b4-a94e-bf4f8eb572de",
      "metadata": {
        "id": "6c128c53-03f1-41b4-a94e-bf4f8eb572de"
      },
      "outputs": [],
      "source": [
        "a4 = np.arange(12).reshape(3,4)\n",
        "a5 = np.arange(12,24).reshape(3,4)\n"
      ]
    },
    {
      "cell_type": "code",
      "execution_count": null,
      "id": "7f0b6a5d-c55e-49e1-80e7-94f4ffb5ef73",
      "metadata": {
        "id": "7f0b6a5d-c55e-49e1-80e7-94f4ffb5ef73"
      },
      "outputs": [],
      "source": [
        "a4"
      ]
    },
    {
      "cell_type": "code",
      "execution_count": null,
      "id": "bc993c85-27b2-4ddf-91ec-b812bc8353fe",
      "metadata": {
        "id": "bc993c85-27b2-4ddf-91ec-b812bc8353fe"
      },
      "outputs": [],
      "source": [
        "#horizontal stacking\n",
        "np.hstack((a4,a5))"
      ]
    },
    {
      "cell_type": "code",
      "execution_count": null,
      "id": "1bb5e869-100a-4919-9139-d0147b7af429",
      "metadata": {
        "id": "1bb5e869-100a-4919-9139-d0147b7af429"
      },
      "outputs": [],
      "source": [
        "#vertical stacking\n",
        "np.vstack((a4,a5))"
      ]
    },
    {
      "cell_type": "code",
      "execution_count": null,
      "id": "f608d9f4-ea7c-49c0-9f87-ec666a05f796",
      "metadata": {
        "id": "f608d9f4-ea7c-49c0-9f87-ec666a05f796"
      },
      "outputs": [],
      "source": [
        "# horizontal splitting\n",
        "np.hsplit(a4,2)"
      ]
    },
    {
      "cell_type": "code",
      "execution_count": null,
      "id": "d085aaf4-64cb-474c-a61e-bb61cea2e483",
      "metadata": {
        "id": "d085aaf4-64cb-474c-a61e-bb61cea2e483"
      },
      "outputs": [],
      "source": [
        "#vertical splitting\n",
        "np.vsplit(a4,3)"
      ]
    },
    {
      "cell_type": "code",
      "execution_count": null,
      "id": "19a596e6-72fb-4012-9b5d-1f7f45505cc3",
      "metadata": {
        "colab": {
          "base_uri": "https://localhost:8080/"
        },
        "id": "19a596e6-72fb-4012-9b5d-1f7f45505cc3",
        "outputId": "0d438482-899b-4e08-df58-1ee4966f6f9b"
      },
      "outputs": [
        {
          "output_type": "execute_result",
          "data": {
            "text/plain": [
              "np.float64(26.0)"
            ]
          },
          "metadata": {},
          "execution_count": 2
        }
      ],
      "source": [
        "import numpy as np\n",
        "a=25.56\n",
        "np.ceil(a)"
      ]
    },
    {
      "cell_type": "code",
      "source": [
        "import numpy as np\n",
        "a=25.56\n",
        "np.floor(a)"
      ],
      "metadata": {
        "colab": {
          "base_uri": "https://localhost:8080/"
        },
        "id": "rUu0eJWGUEsn",
        "outputId": "7c5a3a7c-e764-4e15-fa56-dfa13515b7e7"
      },
      "id": "rUu0eJWGUEsn",
      "execution_count": null,
      "outputs": [
        {
          "output_type": "execute_result",
          "data": {
            "text/plain": [
              "np.float64(25.0)"
            ]
          },
          "metadata": {},
          "execution_count": 3
        }
      ]
    }
  ],
  "metadata": {
    "kernelspec": {
      "display_name": "Python 3 (ipykernel)",
      "language": "python",
      "name": "python3"
    },
    "language_info": {
      "codemirror_mode": {
        "name": "ipython",
        "version": 3
      },
      "file_extension": ".py",
      "mimetype": "text/x-python",
      "name": "python",
      "nbconvert_exporter": "python",
      "pygments_lexer": "ipython3",
      "version": "3.11.11"
    },
    "colab": {
      "provenance": []
    }
  },
  "nbformat": 4,
  "nbformat_minor": 5
}